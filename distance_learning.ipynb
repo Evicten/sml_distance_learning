{
 "cells": [
  {
   "cell_type": "code",
   "execution_count": 31,
   "metadata": {},
   "outputs": [],
   "source": [
    "from ucimlrepo import fetch_ucirepo \n",
    "import numpy as np\n",
    "from itertools import combinations\n",
    "  \n",
    "# Fetch dataset\n",
    "wine = fetch_ucirepo(id=109)\n",
    "\n",
    "# Data (features and targets as pandas DataFrames)\n",
    "X = wine.data.features\n",
    "y = wine.data.targets"
   ]
  },
  {
   "cell_type": "code",
   "execution_count": null,
   "metadata": {},
   "outputs": [],
   "source": [
    "from sklearn.preprocessing import StandardScaler\n",
    "\n",
    "# Scale features\n",
    "scaler = StandardScaler()\n",
    "X_scaled = scaler.fit_transform(X)\n"
   ]
  },
  {
   "cell_type": "code",
   "execution_count": null,
   "metadata": {},
   "outputs": [],
   "source": [
    "from metric_learn import LMNN, NCA, ITML\n",
    "from sklearn.model_selection import train_test_split\n",
    "from sklearn.neighbors import KNeighborsClassifier\n",
    "from sklearn.metrics import accuracy_score"
   ]
  },
  {
   "cell_type": "code",
   "execution_count": 33,
   "metadata": {},
   "outputs": [],
   "source": [
    "# Split the dataset\n",
    "X_train, X_test, y_train, y_test = train_test_split(X, y, test_size=0.3, random_state=42)\n",
    "y_train = np.ravel(y_train)  # Convert to shape (n_samples,)\n",
    "y_test = np.ravel(y_test)"
   ]
  },
  {
   "cell_type": "code",
   "execution_count": 36,
   "metadata": {},
   "outputs": [],
   "source": [
    "# Create pairs of samples and corresponding similarity labels\n",
    "def create_pairs(X, y):\n",
    "    pairs = []\n",
    "    labels = []\n",
    "\n",
    "    # Iterate through all pairs of indices\n",
    "    for i, j in combinations(range(len(y)), 2):\n",
    "        pairs.append([X[i], X[j]])\n",
    "        # Label 1 if they belong to the same class, -1 otherwise\n",
    "        labels.append(1 if y[i] == y[j] else -1)\n",
    "    \n",
    "    return np.array(pairs), np.array(labels)\n",
    "\n",
    "def create_pairs_iloc(X, y):\n",
    "    pairs = []\n",
    "    labels = []\n",
    "\n",
    "    # Iterate through all pairs of indices\n",
    "    for i, j in combinations(range(len(y)), 2):\n",
    "        pairs.append([X.iloc[i], X.iloc[j]])\n",
    "        # Label 1 if they belong to the same class, -1 otherwise\n",
    "        labels.append(1 if y[i] == y[j] else -1)\n",
    "    \n",
    "    return np.array(pairs), np.array(labels)\n",
    "\n",
    "\n",
    "# Generate pairs and labels for the training data\n",
    "pairs_train, labels_train = create_pairs_iloc(X_train, y_train)"
   ]
  },
  {
   "cell_type": "code",
   "execution_count": 37,
   "metadata": {},
   "outputs": [
    {
     "name": "stdout",
     "output_type": "stream",
     "text": [
      "(178, 1)\n"
     ]
    }
   ],
   "source": [
    "print(y.shape)"
   ]
  },
  {
   "cell_type": "code",
   "execution_count": 38,
   "metadata": {},
   "outputs": [
    {
     "name": "stderr",
     "output_type": "stream",
     "text": [
      "/Library/Frameworks/Python.framework/Versions/3.11/lib/python3.11/site-packages/metric_learn/lmnn.py:140: FutureWarning: \"num_chunks\" parameter has been renamed to \"n_chunks\". It has been deprecated in version 0.6.3 and will be removed in 0.7.0\n",
      "  warnings.warn('\"num_chunks\" parameter has been renamed to'\n"
     ]
    }
   ],
   "source": [
    "# LMNN\n",
    "lmnn = LMNN(k=3, learn_rate=1e-6)\n",
    "lmnn.fit(X_train, y_train)\n",
    "X_train_lmnn = lmnn.transform(X_train)\n",
    "X_test_lmnn = lmnn.transform(X_test)"
   ]
  },
  {
   "cell_type": "code",
   "execution_count": 39,
   "metadata": {},
   "outputs": [],
   "source": [
    "# NCA\n",
    "nca = NCA(max_iter=100)\n",
    "nca.fit(X_train, y_train)\n",
    "X_train_nca = nca.transform(X_train)\n",
    "X_test_nca = nca.transform(X_test)"
   ]
  },
  {
   "cell_type": "code",
   "execution_count": 40,
   "metadata": {},
   "outputs": [],
   "source": [
    "# ITML\n",
    "itml = ITML()\n",
    "itml.fit(pairs_train, labels_train)\n",
    "# Transform the training and testing data (not pairs anymore)\n",
    "X_train_itml = itml.transform(X_train)\n",
    "X_test_itml = itml.transform(X_test)"
   ]
  },
  {
   "cell_type": "code",
   "execution_count": 24,
   "metadata": {},
   "outputs": [
    {
     "name": "stdout",
     "output_type": "stream",
     "text": [
      "Original Accuracy: 0.96\n",
      "LMNN Accuracy: 0.98\n",
      "NCA Accuracy: 0.98\n",
      "ITML Accuracy: 0.98\n"
     ]
    }
   ],
   "source": [
    "# k-NN Classifier\n",
    "knn = KNeighborsClassifier(n_neighbors=3)\n",
    "\n",
    "# Evaluate k-NN on original data\n",
    "knn.fit(X_train, y_train)\n",
    "y_pred = knn.predict(X_test)\n",
    "acc = accuracy_score(y_test, y_pred)\n",
    "\n",
    "# Evaluate LMNN\n",
    "knn.fit(X_train_lmnn, y_train)\n",
    "y_pred_lmnn = knn.predict(X_test_lmnn)\n",
    "lmnn_acc = accuracy_score(y_test, y_pred_lmnn)\n",
    "\n",
    "# Evaluate NCA\n",
    "knn.fit(X_train_nca, y_train)\n",
    "y_pred_nca = knn.predict(X_test_nca)\n",
    "nca_acc = accuracy_score(y_test, y_pred_nca)\n",
    "\n",
    "# Evaluate ITML\n",
    "knn.fit(X_train_itml, y_train)\n",
    "y_pred_itml = knn.predict(X_test_itml)\n",
    "itml_acc = accuracy_score(y_test, y_pred_itml)\n",
    "\n",
    "print(f\"Original Accuracy: {acc:.2f}\")\n",
    "print(f\"LMNN Accuracy: {lmnn_acc:.2f}\")\n",
    "print(f\"NCA Accuracy: {nca_acc:.2f}\")\n",
    "print(f\"ITML Accuracy: {itml_acc:.2f}\")\n"
   ]
  },
  {
   "cell_type": "markdown",
   "metadata": {},
   "source": [
    "## Generate Synthetic Data that shows difference learning"
   ]
  },
  {
   "cell_type": "code",
   "execution_count": 41,
   "metadata": {},
   "outputs": [],
   "source": [
    "from sklearn.datasets import make_classification\n"
   ]
  },
  {
   "cell_type": "code",
   "execution_count": 42,
   "metadata": {},
   "outputs": [],
   "source": [
    "X, y = make_classification(n_samples=200, n_features=2, n_classes=2, n_informative=2, n_redundant=0, random_state=42)\n",
    "X[:, 1] *= 1000"
   ]
  },
  {
   "cell_type": "code",
   "execution_count": 43,
   "metadata": {},
   "outputs": [],
   "source": [
    "# Split the dataset\n",
    "X_train, X_test, y_train, y_test = train_test_split(X, y, test_size=0.3, random_state=42)\n",
    "y_train = np.ravel(y_train)  # Convert to shape (n_samples,)\n",
    "y_test = np.ravel(y_test)"
   ]
  },
  {
   "cell_type": "code",
   "execution_count": 45,
   "metadata": {},
   "outputs": [],
   "source": [
    "# Generate pairs and labels for the training data\n",
    "pairs_train, labels_train = create_pairs(X_train, y_train)"
   ]
  },
  {
   "cell_type": "code",
   "execution_count": 46,
   "metadata": {},
   "outputs": [
    {
     "name": "stderr",
     "output_type": "stream",
     "text": [
      "/Library/Frameworks/Python.framework/Versions/3.11/lib/python3.11/site-packages/metric_learn/lmnn.py:140: FutureWarning: \"num_chunks\" parameter has been renamed to \"n_chunks\". It has been deprecated in version 0.6.3 and will be removed in 0.7.0\n",
      "  warnings.warn('\"num_chunks\" parameter has been renamed to'\n"
     ]
    }
   ],
   "source": [
    "# LMNN\n",
    "lmnn = LMNN(k=3, learn_rate=1e-6)\n",
    "lmnn.fit(X_train, y_train)\n",
    "X_train_lmnn = lmnn.transform(X_train)\n",
    "X_test_lmnn = lmnn.transform(X_test)\n",
    "\n",
    "# NCA\n",
    "nca = NCA(max_iter=100)\n",
    "nca.fit(X_train, y_train)\n",
    "X_train_nca = nca.transform(X_train)\n",
    "X_test_nca = nca.transform(X_test)\n",
    "\n",
    "# ITML\n",
    "itml = ITML()\n",
    "itml.fit(pairs_train, labels_train)\n",
    "# Transform the training and testing data (not pairs anymore)\n",
    "X_train_itml = itml.transform(X_train)\n",
    "X_test_itml = itml.transform(X_test)"
   ]
  },
  {
   "cell_type": "code",
   "execution_count": 47,
   "metadata": {},
   "outputs": [
    {
     "name": "stdout",
     "output_type": "stream",
     "text": [
      "Original Accuracy: 0.43\n",
      "LMNN Accuracy: 0.85\n",
      "NCA Accuracy: 0.85\n",
      "ITML Accuracy: 0.83\n"
     ]
    }
   ],
   "source": [
    "# k-NN Classifier\n",
    "knn = KNeighborsClassifier(n_neighbors=3)\n",
    "\n",
    "# Evaluate k-NN on original data\n",
    "knn.fit(X_train, y_train)\n",
    "y_pred = knn.predict(X_test)\n",
    "acc = accuracy_score(y_test, y_pred)\n",
    "\n",
    "# Evaluate LMNN\n",
    "knn.fit(X_train_lmnn, y_train)\n",
    "y_pred_lmnn = knn.predict(X_test_lmnn)\n",
    "lmnn_acc = accuracy_score(y_test, y_pred_lmnn)\n",
    "\n",
    "# Evaluate NCA\n",
    "knn.fit(X_train_nca, y_train)\n",
    "y_pred_nca = knn.predict(X_test_nca)\n",
    "nca_acc = accuracy_score(y_test, y_pred_nca)\n",
    "\n",
    "# Evaluate ITML\n",
    "knn.fit(X_train_itml, y_train)\n",
    "y_pred_itml = knn.predict(X_test_itml)\n",
    "itml_acc = accuracy_score(y_test, y_pred_itml)\n",
    "\n",
    "print(f\"Original Accuracy: {acc:.2f}\")\n",
    "print(f\"LMNN Accuracy: {lmnn_acc:.2f}\")\n",
    "print(f\"NCA Accuracy: {nca_acc:.2f}\")\n",
    "print(f\"ITML Accuracy: {itml_acc:.2f}\")"
   ]
  },
  {
   "cell_type": "markdown",
   "metadata": {},
   "source": []
  },
  {
   "cell_type": "code",
   "execution_count": null,
   "metadata": {},
   "outputs": [],
   "source": []
  }
 ],
 "metadata": {
  "kernelspec": {
   "display_name": "Python 3",
   "language": "python",
   "name": "python3"
  },
  "language_info": {
   "codemirror_mode": {
    "name": "ipython",
    "version": 3
   },
   "file_extension": ".py",
   "mimetype": "text/x-python",
   "name": "python",
   "nbconvert_exporter": "python",
   "pygments_lexer": "ipython3",
   "version": "3.11.4"
  }
 },
 "nbformat": 4,
 "nbformat_minor": 2
}
